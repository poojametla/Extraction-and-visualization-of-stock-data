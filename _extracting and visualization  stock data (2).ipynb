{
 "cells": [
  {
   "cell_type": "markdown",
   "id": "efa22171-d314-4ba0-8616-b7a09712441d",
   "metadata": {},
   "source": [
    "# Extracting and visualization stock data"
   ]
  },
  {
   "cell_type": "markdown",
   "id": "d20ffa33-455c-428b-8cd5-e289030b8422",
   "metadata": {},
   "source": [
    "## Question 1: Use yfinance to Extract Stock Data\n"
   ]
  },
  {
   "cell_type": "markdown",
   "id": "a5e6bcef-ee1c-40f3-af35-3574afa0a9de",
   "metadata": {},
   "source": [
    "Using the Ticker function enter the ticker symbol of the stock we want to extract data on to create a ticker object. The stock is Tesla and its ticker symbol is TSLA.\n",
    "\n"
   ]
  },
  {
   "cell_type": "code",
   "execution_count": 25,
   "id": "fc11f31c-15a0-418f-a6d6-89ebb19b70ee",
   "metadata": {},
   "outputs": [],
   "source": [
    "import yfinance as yf\n",
    "import pandas as pd\n",
    "import requests\n",
    "from bs4 import BeautifulSoup\n",
    "import plotly.graph_objects as go\n",
    "from plotly.subplots import make_subplots\n",
    "\n",
    "import warnings\n",
    "# Ignore all warnings\n",
    "warnings.filterwarnings(\"ignore\", category=FutureWarning)\n",
    "import yfinance as yf\n",
    "TSLA = yf.Ticker('TSLA')"
   ]
  },
  {
   "cell_type": "code",
   "execution_count": 26,
   "id": "413086fe-24a2-439a-b513-0faf4969906a",
   "metadata": {},
   "outputs": [
    {
     "name": "stdout",
     "output_type": "stream",
     "text": [
      "                                 Open        High         Low       Close  \\\n",
      "Date                                                                        \n",
      "2010-06-29 00:00:00-04:00    1.266667    1.666667    1.169333    1.592667   \n",
      "2010-06-30 00:00:00-04:00    1.719333    2.028000    1.553333    1.588667   \n",
      "2010-07-01 00:00:00-04:00    1.666667    1.728000    1.351333    1.464000   \n",
      "2010-07-02 00:00:00-04:00    1.533333    1.540000    1.247333    1.280000   \n",
      "2010-07-06 00:00:00-04:00    1.333333    1.333333    1.055333    1.074000   \n",
      "...                               ...         ...         ...         ...   \n",
      "2025-07-10 00:00:00-04:00  300.049988  310.480011  300.000000  309.869995   \n",
      "2025-07-11 00:00:00-04:00  307.890015  314.089996  305.649994  313.510010   \n",
      "2025-07-14 00:00:00-04:00  317.730011  322.600006  312.670013  316.899994   \n",
      "2025-07-15 00:00:00-04:00  319.679993  321.200012  310.500000  310.779999   \n",
      "2025-07-16 00:00:00-04:00  312.799988  323.500000  312.619995  321.670013   \n",
      "\n",
      "                              Volume  Dividends  Stock Splits  \n",
      "Date                                                           \n",
      "2010-06-29 00:00:00-04:00  281494500        0.0           0.0  \n",
      "2010-06-30 00:00:00-04:00  257806500        0.0           0.0  \n",
      "2010-07-01 00:00:00-04:00  123282000        0.0           0.0  \n",
      "2010-07-02 00:00:00-04:00   77097000        0.0           0.0  \n",
      "2010-07-06 00:00:00-04:00  103003500        0.0           0.0  \n",
      "...                              ...        ...           ...  \n",
      "2025-07-10 00:00:00-04:00  104365300        0.0           0.0  \n",
      "2025-07-11 00:00:00-04:00   79236400        0.0           0.0  \n",
      "2025-07-14 00:00:00-04:00   78043400        0.0           0.0  \n",
      "2025-07-15 00:00:00-04:00   77556300        0.0           0.0  \n",
      "2025-07-16 00:00:00-04:00   96845800        0.0           0.0  \n",
      "\n",
      "[3785 rows x 7 columns]\n"
     ]
    }
   ],
   "source": [
    "tesla_data = TSLA.history(period='max')\n",
    "print(tesla_data)"
   ]
  },
  {
   "cell_type": "markdown",
   "id": "76561817-f77b-43ac-9228-7492cf103de6",
   "metadata": {},
   "source": [
    "## Question 2: Use Webscraping to Extract Tesla Revenue Data"
   ]
  },
  {
   "cell_type": "markdown",
   "id": "d4fc7af5-7b6d-46e4-81a4-3e6cecdeb844",
   "metadata": {},
   "source": [
    "Use the requests library to download the webpage https://cf-courses-data.s3.us.cloud-object-storage.appdomain.cloud/IBMDeveloperSkillsNetwork-PY0220EN-SkillsNetwork/labs/project/revenue.htm Save the text of the response as a variable named html_data.\n"
   ]
  },
  {
   "cell_type": "code",
   "execution_count": 25,
   "id": "be05cb70-3e75-4308-b03e-f703226e3c0e",
   "metadata": {},
   "outputs": [
    {
     "name": "stdout",
     "output_type": "stream",
     "text": [
      "Number of tables found: 6\n",
      "          date revenue\n",
      "48  2010-09-30      31\n",
      "49  2010-06-30      28\n",
      "50  2010-03-31      21\n",
      "52  2009-09-30      46\n",
      "53  2009-06-30      27\n"
     ]
    }
   ],
   "source": [
    "import yfinance as yf\n",
    "import yfinance as yf\n",
    "import pandas as pd\n",
    "import requests\n",
    "from bs4 import BeautifulSoup\n",
    "import plotly.graph_objects as go\n",
    "from plotly.subplots import make_subplots\n",
    "\n",
    "# Fetch HTML\n",
    "url = 'https://cf-courses-data.s3.us.cloud-object-storage.appdomain.cloud/IBMDeveloperSkillsNetwork-PY0220EN-SkillsNetwork/labs/project/revenue.htm'\n",
    "html_data = requests.get(url).text\n",
    "soup = BeautifulSoup(html_data, 'html.parser')\n",
    "\n",
    "# Find all tables\n",
    "tables = soup.find_all('table')\n",
    "print(f\"Number of tables found: {len(tables)}\")\n",
    "\n",
    "# Initialize DataFrame\n",
    "tesla_revenue = pd.DataFrame(columns=['date', 'revenue'])\n",
    "\n",
    "# Use the first table and get tbody\n",
    "tbody = tables[1].find('tbody')\n",
    "\n",
    "# Loop through all rows in tbody\n",
    "for row in tbody.find_all('tr'):\n",
    "    col = row.find_all('td')\n",
    "    if len(col) >= 2:\n",
    "        date = col[0].text.strip()\n",
    "        revenue = col[1].text.strip().replace('$', '').replace(',', '')\n",
    "        tesla_revenue = pd.concat(\n",
    "            [tesla_revenue, pd.DataFrame([{'date': date, 'revenue': revenue}])],\n",
    "            ignore_index=True\n",
    "        )\n",
    "tesla_revenue.dropna(inplace=True)\n",
    "\n",
    "tesla_revenue = tesla_revenue[tesla_revenue['revenue'] != \"\"]\n",
    "print(tesla_revenue.tail())\n"
   ]
  },
  {
   "cell_type": "markdown",
   "id": "b7e30764-8132-4bc1-9942-a551ace6f12b",
   "metadata": {},
   "source": [
    "## Question 3: Use yfinance to Extract Stock Data¶"
   ]
  },
  {
   "cell_type": "markdown",
   "id": "bd20e465-4025-4e6e-a736-f2a052974da8",
   "metadata": {},
   "source": [
    "Using the Ticker function enter the ticker symbol of the stock we want to extract data on to create a ticker object. The stock is GameStop and its ticker symbol is GME."
   ]
  },
  {
   "cell_type": "code",
   "execution_count": 7,
   "id": "f414dc64-eaef-4184-bff9-f8bf893612de",
   "metadata": {},
   "outputs": [],
   "source": [
    "import yfinance as yf\n",
    "GME= yf.Ticker('GME')"
   ]
  },
  {
   "cell_type": "code",
   "execution_count": 11,
   "id": "1361f206-46bc-4d65-b08a-6f04b68b6ce1",
   "metadata": {},
   "outputs": [],
   "source": [
    "gme_history=GME.history(period='max')"
   ]
  },
  {
   "cell_type": "code",
   "execution_count": 13,
   "id": "b54c65f2-09cd-4718-856f-c7028ea1253d",
   "metadata": {},
   "outputs": [
    {
     "name": "stdout",
     "output_type": "stream",
     "text": [
      "                                Open       High        Low      Close  \\\n",
      "Date                                                                    \n",
      "2002-02-13 00:00:00-05:00   1.620129   1.693350   1.603296   1.691667   \n",
      "2002-02-14 00:00:00-05:00   1.712707   1.716074   1.670626   1.683250   \n",
      "2002-02-15 00:00:00-05:00   1.683250   1.687458   1.658002   1.674834   \n",
      "2002-02-19 00:00:00-05:00   1.666418   1.666418   1.578047   1.607504   \n",
      "2002-02-20 00:00:00-05:00   1.615920   1.662210   1.603296   1.662210   \n",
      "...                              ...        ...        ...        ...   \n",
      "2025-07-10 00:00:00-04:00  23.040001  23.330000  23.010000  23.100000   \n",
      "2025-07-11 00:00:00-04:00  23.129999  24.049999  23.129999  23.330000   \n",
      "2025-07-14 00:00:00-04:00  23.440001  23.840000  23.389999  23.700001   \n",
      "2025-07-15 00:00:00-04:00  23.660000  23.680000  23.170000  23.219999   \n",
      "2025-07-16 00:00:00-04:00  23.400000  23.850000  23.309999  23.680000   \n",
      "\n",
      "                             Volume  Dividends  Stock Splits  \n",
      "Date                                                          \n",
      "2002-02-13 00:00:00-05:00  76216000        0.0           0.0  \n",
      "2002-02-14 00:00:00-05:00  11021600        0.0           0.0  \n",
      "2002-02-15 00:00:00-05:00   8389600        0.0           0.0  \n",
      "2002-02-19 00:00:00-05:00   7410400        0.0           0.0  \n",
      "2002-02-20 00:00:00-05:00   6892800        0.0           0.0  \n",
      "...                             ...        ...           ...  \n",
      "2025-07-10 00:00:00-04:00   5991000        0.0           0.0  \n",
      "2025-07-11 00:00:00-04:00  11454100        0.0           0.0  \n",
      "2025-07-14 00:00:00-04:00   7769600        0.0           0.0  \n",
      "2025-07-15 00:00:00-04:00   7321600        0.0           0.0  \n",
      "2025-07-16 00:00:00-04:00   7677800        0.0           0.0  \n",
      "\n",
      "[5893 rows x 7 columns]\n"
     ]
    }
   ],
   "source": [
    "print(gme_history)"
   ]
  },
  {
   "cell_type": "code",
   "execution_count": 15,
   "id": "fc679e1a-9bd7-49d7-a0e0-f7cb3b656db9",
   "metadata": {},
   "outputs": [],
   "source": [
    "gme_history.reset_index(inplace=True)"
   ]
  },
  {
   "cell_type": "code",
   "execution_count": 17,
   "id": "4e657cfe-8b92-43f7-8618-3e47405bfd48",
   "metadata": {},
   "outputs": [
    {
     "data": {
      "text/html": [
       "<div>\n",
       "<style scoped>\n",
       "    .dataframe tbody tr th:only-of-type {\n",
       "        vertical-align: middle;\n",
       "    }\n",
       "\n",
       "    .dataframe tbody tr th {\n",
       "        vertical-align: top;\n",
       "    }\n",
       "\n",
       "    .dataframe thead th {\n",
       "        text-align: right;\n",
       "    }\n",
       "</style>\n",
       "<table border=\"1\" class=\"dataframe\">\n",
       "  <thead>\n",
       "    <tr style=\"text-align: right;\">\n",
       "      <th></th>\n",
       "      <th>Date</th>\n",
       "      <th>Open</th>\n",
       "      <th>High</th>\n",
       "      <th>Low</th>\n",
       "      <th>Close</th>\n",
       "      <th>Volume</th>\n",
       "      <th>Dividends</th>\n",
       "      <th>Stock Splits</th>\n",
       "    </tr>\n",
       "  </thead>\n",
       "  <tbody>\n",
       "    <tr>\n",
       "      <th>0</th>\n",
       "      <td>2002-02-13 00:00:00-05:00</td>\n",
       "      <td>1.620129</td>\n",
       "      <td>1.693350</td>\n",
       "      <td>1.603296</td>\n",
       "      <td>1.691667</td>\n",
       "      <td>76216000</td>\n",
       "      <td>0.0</td>\n",
       "      <td>0.0</td>\n",
       "    </tr>\n",
       "    <tr>\n",
       "      <th>1</th>\n",
       "      <td>2002-02-14 00:00:00-05:00</td>\n",
       "      <td>1.712707</td>\n",
       "      <td>1.716074</td>\n",
       "      <td>1.670626</td>\n",
       "      <td>1.683250</td>\n",
       "      <td>11021600</td>\n",
       "      <td>0.0</td>\n",
       "      <td>0.0</td>\n",
       "    </tr>\n",
       "    <tr>\n",
       "      <th>2</th>\n",
       "      <td>2002-02-15 00:00:00-05:00</td>\n",
       "      <td>1.683250</td>\n",
       "      <td>1.687458</td>\n",
       "      <td>1.658002</td>\n",
       "      <td>1.674834</td>\n",
       "      <td>8389600</td>\n",
       "      <td>0.0</td>\n",
       "      <td>0.0</td>\n",
       "    </tr>\n",
       "    <tr>\n",
       "      <th>3</th>\n",
       "      <td>2002-02-19 00:00:00-05:00</td>\n",
       "      <td>1.666418</td>\n",
       "      <td>1.666418</td>\n",
       "      <td>1.578047</td>\n",
       "      <td>1.607504</td>\n",
       "      <td>7410400</td>\n",
       "      <td>0.0</td>\n",
       "      <td>0.0</td>\n",
       "    </tr>\n",
       "    <tr>\n",
       "      <th>4</th>\n",
       "      <td>2002-02-20 00:00:00-05:00</td>\n",
       "      <td>1.615920</td>\n",
       "      <td>1.662210</td>\n",
       "      <td>1.603296</td>\n",
       "      <td>1.662210</td>\n",
       "      <td>6892800</td>\n",
       "      <td>0.0</td>\n",
       "      <td>0.0</td>\n",
       "    </tr>\n",
       "  </tbody>\n",
       "</table>\n",
       "</div>"
      ],
      "text/plain": [
       "                       Date      Open      High       Low     Close    Volume  \\\n",
       "0 2002-02-13 00:00:00-05:00  1.620129  1.693350  1.603296  1.691667  76216000   \n",
       "1 2002-02-14 00:00:00-05:00  1.712707  1.716074  1.670626  1.683250  11021600   \n",
       "2 2002-02-15 00:00:00-05:00  1.683250  1.687458  1.658002  1.674834   8389600   \n",
       "3 2002-02-19 00:00:00-05:00  1.666418  1.666418  1.578047  1.607504   7410400   \n",
       "4 2002-02-20 00:00:00-05:00  1.615920  1.662210  1.603296  1.662210   6892800   \n",
       "\n",
       "   Dividends  Stock Splits  \n",
       "0        0.0           0.0  \n",
       "1        0.0           0.0  \n",
       "2        0.0           0.0  \n",
       "3        0.0           0.0  \n",
       "4        0.0           0.0  "
      ]
     },
     "execution_count": 17,
     "metadata": {},
     "output_type": "execute_result"
    }
   ],
   "source": [
    "gme_history.head()"
   ]
  },
  {
   "cell_type": "markdown",
   "id": "f9007eb5-4567-4197-ac5f-2dd63fb20aed",
   "metadata": {},
   "source": [
    "## Question 4: Use Webscraping to Extract GME Revenue Data¶"
   ]
  },
  {
   "cell_type": "markdown",
   "id": "e290d19c-795f-44b5-b03a-18ecaca89c5b",
   "metadata": {},
   "source": [
    "Use the requests library to download the webpage https://cf-courses-data.s3.us.cloud-object-storage.appdomain.cloud/IBMDeveloperSkillsNetwork-PY0220EN-SkillsNetwork/labs/project/stock.html. Save the text of the response as a variable named html_data_2.\n",
    "\n"
   ]
  },
  {
   "cell_type": "code",
   "execution_count": 51,
   "id": "37181637-6ff1-4b29-88d6-c7019d20b5fa",
   "metadata": {},
   "outputs": [
    {
     "name": "stdout",
     "output_type": "stream",
     "text": [
      "Number of tables found: 6\n",
      "GME Revenue:\n",
      "          date revenue\n",
      "57  2006-01-31    1667\n",
      "58  2005-10-31     534\n",
      "59  2005-07-31     416\n",
      "60  2005-04-30     475\n",
      "61  2005-01-31     709\n"
     ]
    }
   ],
   "source": [
    "import requests\n",
    "from bs4 import BeautifulSoup\n",
    "import pandas as pd\n",
    "\n",
    "# Step 1: Download the webpage\n",
    "url = \"https://cf-courses-data.s3.us.cloud-object-storage.appdomain.cloud/IBMDeveloperSkillsNetwork-PY0220EN-SkillsNetwork/labs/project/stock.html\"\n",
    "html_data_2 = requests.get(url).text  \n",
    "\n",
    "# Step 2: Parse HTML using BeautifulSoup\n",
    "soup = BeautifulSoup(html_data_2, 'html.parser')\n",
    "\n",
    "# Step 3: Find all tables\n",
    "tables = soup.find_all('table')\n",
    "\n",
    "# Step 4: Inspect number of tables (optional)\n",
    "print(f\"Number of tables found: {len(tables)}\")\n",
    "soup.title\n",
    "#print(tables[1].prettify())\n",
    "\n",
    "# Step 5: Assume the first table contains GME revenue data\n",
    "gme_revenue = pd.DataFrame(columns=['date', 'revenue'])\n",
    "tbody = tables[1].find('tbody')\n",
    "\n",
    "# Step 6: Loop through rows and extract data\n",
    "for row in tbody.find_all('tr'):\n",
    "    cols = row.find_all('td')\n",
    "    if len(cols) >= 2:\n",
    "        date = cols[0].text.strip()\n",
    "        revenue = cols[1].text.strip().replace('$', '').replace(',', '')\n",
    "        gme_revenue = pd.concat(\n",
    "            [gme_revenue, pd.DataFrame([{'date': date, 'revenue': revenue}])],\n",
    "            ignore_index=True\n",
    "        )\n",
    "\n",
    "# Step 7: Clean the data\n",
    "gme_revenue.dropna(inplace=True)\n",
    "gme_revenue = gme_revenue[gme_revenue['revenue'] != \"\"]\n",
    "\n",
    "# Step 8: Preview the result\n",
    "print(\"GME Revenue:\")\n",
    "print(gme_revenue.tail())\n"
   ]
  },
  {
   "cell_type": "markdown",
   "id": "8fa9eb04-c02f-4896-a1a8-6b4db37f4d39",
   "metadata": {},
   "source": [
    "## Question 5: Plot Tesla Stock Graph¶\n"
   ]
  },
  {
   "cell_type": "markdown",
   "id": "9b9405a9-5d1b-424a-88e8-fec4986fcf7d",
   "metadata": {},
   "source": [
    "Use the make_graph function to graph the Tesla Stock Data, also provide a title for the graph. Note the graph will only show data upto June 2021."
   ]
  },
  {
   "cell_type": "code",
   "execution_count": 39,
   "id": "c4b2eabc-0d4f-4e3e-be37-a50f35f0a51e",
   "metadata": {},
   "outputs": [],
   "source": [
    "import yfinance as yf\n",
    "import pandas as pd\n",
    "\n",
    "# Get Tesla stock data\n",
    "tsla = yf.Ticker(\"TSLA\")\n",
    "tesla_data = tsla.history(period=\"max\")\n",
    "tesla_data.reset_index(inplace=True)\n",
    "tesla_data['Date'] = pd.to_datetime(tesla_data['Date'])\n",
    "# Convert revenue to numeric\n",
    "tesla_revenue['revenue'] = pd.to_numeric(tesla_revenue['revenue'], errors='coerce')\n",
    "tesla_revenue['date'] = pd.to_datetime(tesla_revenue['date'])\n"
   ]
  },
  {
   "cell_type": "code",
   "execution_count": 41,
   "id": "9237f298-3c1a-4b7c-95cd-8b80d4fb7817",
   "metadata": {},
   "outputs": [],
   "source": [
    "import plotly.graph_objects as go\n",
    "from plotly.subplots import make_subplots\n",
    "def make_graph(stock_data, revenue_data, stock):\n",
    "    stock_data = stock_data[stock_data.Date <= '2021-06-30']\n",
    "    revenue_data = revenue_data[revenue_data.date <= '2021-06-30']\n",
    "\n",
    "    fig = make_subplots(rows=2, cols=1, shared_xaxes=True,\n",
    "                        subplot_titles=(f\"{stock} Stock Price\", f\"{stock} Revenue\"),\n",
    "                        vertical_spacing=0.3)\n",
    "\n",
    "    fig.add_trace(go.Scatter(x=stock_data.Date, y=stock_data.Close.astype(\"float\"), name=\"Stock Price\"), row=1, col=1)\n",
    "    fig.add_trace(go.Bar(x=revenue_data.date, y=revenue_data.revenue.astype(\"float\"), name=\"Revenue\"), row=2, col=1)\n",
    "\n",
    "    fig.update_layout(height=600, showlegend=False, title=f\"{stock} Stock Price and Revenue\")\n",
    "    fig.show()\n",
    "\n"
   ]
  },
  {
   "cell_type": "code",
   "execution_count": 43,
   "id": "0530010a-570a-4c00-878b-e14edd4eeda2",
   "metadata": {},
   "outputs": [
    {
     "data": {
      "text/html": [
       "<iframe\n",
       "    scrolling=\"no\"\n",
       "    width=\"100%\"\n",
       "    height=\"620\"\n",
       "    src=\"iframe_figures/figure_43.html\"\n",
       "    frameborder=\"0\"\n",
       "    allowfullscreen\n",
       "></iframe>\n"
      ]
     },
     "metadata": {},
     "output_type": "display_data"
    }
   ],
   "source": [
    "import plotly.io as pio\n",
    "pio.renderers.default = 'notebook' \n",
    "import yfinance as yf\n",
    "pio.renderers.default = 'iframe'\n",
    "pio.renderers.default = 'iframe_connected'\n",
    "\n",
    "make_graph(tesla_data, tesla_revenue, 'Tesla')"
   ]
  },
  {
   "cell_type": "markdown",
   "id": "6795358d-d23a-451e-9d61-e39cf4a97086",
   "metadata": {},
   "source": [
    "## Question 6. plot gameplot stock graph"
   ]
  },
  {
   "cell_type": "markdown",
   "id": "657a05aa-046a-4a98-ba26-d8acca685ba6",
   "metadata": {},
   "source": [
    "Use the make_graph function to graph the GameStop Stock Data, also provide a title for the graph. The structure to call the make_graph function is make_graph(gme_data, gme_revenue, 'GameStop'). Note the graph will only show data upto June 2021."
   ]
  },
  {
   "cell_type": "code",
   "execution_count": 47,
   "id": "13619043-534c-45d0-aea2-bcbc72ffd682",
   "metadata": {},
   "outputs": [],
   "source": [
    "import plotly.graph_objects as go\n",
    "from plotly.subplots import make_subplots\n",
    "\n",
    "def make_graph(stock_data, revenue_data, stock):\n",
    "    # Filter data up to June 2021\n",
    "    stock_data = stock_data[stock_data.Date <= '2021-06-30']\n",
    "    revenue_data = revenue_data[revenue_data.date <= '2021-06-30']\n",
    "    \n",
    "    fig = make_subplots(rows=2, cols=1, shared_xaxes=True,\n",
    "                        subplot_titles=(f\"{stock} Stock Price\", f\"{stock} Revenue\"),\n",
    "                        vertical_spacing=0.3)\n",
    "    \n",
    "    # Stock price line\n",
    "    fig.add_trace(go.Scatter(x=stock_data.Date, y=stock_data.Close.astype(\"float\"), name=\"Stock Price\"), row=1, col=1)\n",
    "    \n",
    "    # Revenue bar chart\n",
    "    fig.add_trace(go.Bar(x=revenue_data.date, y=revenue_data.revenue.astype(\"float\"), name=\"Revenue\"), row=2, col=1)\n",
    "    \n",
    "    fig.update_layout(height=600, showlegend=False, title=f\"{stock} Stock Price and Revenue\")\n",
    "    fig.show()\n"
   ]
  },
  {
   "cell_type": "code",
   "execution_count": 60,
   "id": "ae4dffde-3cfb-47b5-a6a3-0d991c471aae",
   "metadata": {},
   "outputs": [
    {
     "data": {
      "text/html": [
       "<iframe\n",
       "    scrolling=\"no\"\n",
       "    width=\"100%\"\n",
       "    height=\"620\"\n",
       "    src=\"iframe_figures/figure_60.html\"\n",
       "    frameborder=\"0\"\n",
       "    allowfullscreen\n",
       "></iframe>\n"
      ]
     },
     "metadata": {},
     "output_type": "display_data"
    }
   ],
   "source": [
    "import plotly.io as pio\n",
    "pio.renderers.default = 'notebook' \n",
    "import yfinance as yf\n",
    "pio.renderers.default = 'iframe'\n",
    "make_graph(gme_data, gme_revenue, 'GameStop')"
   ]
  },
  {
   "cell_type": "code",
   "execution_count": null,
   "id": "30d3b264-fc5b-43ce-a97b-ef68f4f22273",
   "metadata": {},
   "outputs": [],
   "source": []
  }
 ],
 "metadata": {
  "kernelspec": {
   "display_name": "Python [conda env:base] *",
   "language": "python",
   "name": "conda-base-py"
  },
  "language_info": {
   "codemirror_mode": {
    "name": "ipython",
    "version": 3
   },
   "file_extension": ".py",
   "mimetype": "text/x-python",
   "name": "python",
   "nbconvert_exporter": "python",
   "pygments_lexer": "ipython3",
   "version": "3.12.7"
  }
 },
 "nbformat": 4,
 "nbformat_minor": 5
}
